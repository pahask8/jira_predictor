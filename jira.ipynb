{
 "cells": [
  {
   "cell_type": "code",
   "execution_count": 1,
   "metadata": {},
   "outputs": [],
   "source": [
    "# ! pip3 install fastprogress==0.1.22\n",
    "# ! pip3 install \"tensorflow_gpu>=1.14,<=2\"\n",
    "# ! pip3 install ktrain"
   ]
  },
  {
   "cell_type": "code",
   "execution_count": 2,
   "metadata": {},
   "outputs": [
    {
     "name": "stdout",
     "output_type": "stream",
     "text": [
      "Done\n"
     ]
    }
   ],
   "source": [
    "import os\n",
    "import shutil\n",
    "from pathlib import Path\n",
    "\n",
    "datasets_full = \"dataset_preprocess\"\n",
    "\n",
    "users = os.listdir(datasets_full)\n",
    "\n",
    "Path(os.path.join(\"jiradata\", \"test\")).mkdir(parents=True, exist_ok=True)\n",
    "Path(os.path.join(\"jiradata\", \"train\")).mkdir(parents=True, exist_ok=True)\n",
    "\n",
    "for user in users:\n",
    "    # get list of files\n",
    "    tickets = os.listdir(os.path.join(datasets_full, user))\n",
    "\n",
    "    test = tickets[:len(tickets) // 2]\n",
    "    train = tickets[len(tickets) // 2:]\n",
    "\n",
    "    # copy test\n",
    "    for ticket in test:\n",
    "        Path(os.path.join(\"jiradata\", \"test\", user)).mkdir(parents=True, exist_ok=True)\n",
    "        shutil.copyfile(os.path.join(datasets_full, user, ticket), os.path.join(\"jiradata\", \"test\", user, ticket))\n",
    "\n",
    "    # copy test\n",
    "    for ticket in test:\n",
    "        Path(os.path.join(\"jiradata\", \"train\", user)).mkdir(parents=True, exist_ok=True)\n",
    "        shutil.copyfile(os.path.join(datasets_full, user, ticket), os.path.join(\"jiradata\", \"train\", user, ticket))\n",
    "# users = os.listdir(\"jiradata/train\")\n",
    "print(\"Done\")"
   ]
  },
  {
   "cell_type": "code",
   "execution_count": 3,
   "metadata": {},
   "outputs": [
    {
     "name": "stdout",
     "output_type": "stream",
     "text": [
      "using Keras version: 2.2.4-tf\n",
      "CPU times: user 2.5 s, sys: 208 ms, total: 2.71 s\n",
      "Wall time: 2.71 s\n"
     ]
    }
   ],
   "source": [
    "%%time\n",
    "import ktrain\n",
    "from ktrain import text as txt"
   ]
  },
  {
   "cell_type": "code",
   "execution_count": 4,
   "metadata": {},
   "outputs": [
    {
     "name": "stdout",
     "output_type": "stream",
     "text": [
      "detected encoding: utf-8\n",
      "preprocessing train...\n",
      "language: en\n"
     ]
    },
    {
     "data": {
      "text/html": [
       "done."
      ],
      "text/plain": [
       "<IPython.core.display.HTML object>"
      ]
     },
     "metadata": {},
     "output_type": "display_data"
    },
    {
     "name": "stdout",
     "output_type": "stream",
     "text": [
      "preprocessing test...\n",
      "language: en\n"
     ]
    },
    {
     "data": {
      "text/html": [
       "done."
      ],
      "text/plain": [
       "<IPython.core.display.HTML object>"
      ]
     },
     "metadata": {},
     "output_type": "display_data"
    },
    {
     "name": "stdout",
     "output_type": "stream",
     "text": [
      "CPU times: user 2min 30s, sys: 1.12 s, total: 2min 31s\n",
      "Wall time: 2min 30s\n"
     ]
    }
   ],
   "source": [
    "%%time\n",
    "# load data\n",
    "(x_train, y_train), (x_test, y_test), preproc = txt.texts_from_folder('jiradata', maxlen=500, \n",
    "                                                                     preprocess_mode='bert',\n",
    "                                                                     train_test_names=['train', 'test'],\n",
    "                                                                     classes=users)"
   ]
  },
  {
   "cell_type": "code",
   "execution_count": 5,
   "metadata": {},
   "outputs": [
    {
     "name": "stdout",
     "output_type": "stream",
     "text": [
      "Is Multi-Label? False\n",
      "maxlen is 500\n",
      "done.\n",
      "CPU times: user 26.7 s, sys: 1.18 s, total: 27.9 s\n",
      "Wall time: 28 s\n"
     ]
    }
   ],
   "source": [
    "%%time\n",
    "# load model\n",
    "model = txt.text_classifier('bert', (x_train, y_train), preproc=preproc)"
   ]
  },
  {
   "cell_type": "code",
   "execution_count": 6,
   "metadata": {},
   "outputs": [
    {
     "name": "stdout",
     "output_type": "stream",
     "text": [
      "CPU times: user 1.15 s, sys: 444 ms, total: 1.6 s\n",
      "Wall time: 1.56 s\n"
     ]
    }
   ],
   "source": [
    "%%time\n",
    "# wrap model and data in ktrain.Learner object\n",
    "learner = ktrain.get_learner(model, \n",
    "                             train_data=(x_train, y_train), \n",
    "                             val_data=(x_test, y_test), \n",
    "                             batch_size=10)"
   ]
  },
  {
   "cell_type": "code",
   "execution_count": 7,
   "metadata": {},
   "outputs": [
    {
     "name": "stdout",
     "output_type": "stream",
     "text": [
      "simulating training for different learning rates... this may take a few moments...\n",
      "Train on 8961 samples\n",
      "Epoch 1/1024\n",
      "8961/8961 [==============================] - 385s 43ms/sample - loss: 3.2744 - acc: 0.1265\n",
      "Epoch 2/1024\n",
      "3980/8961 [============>.................] - ETA: 3:30 - loss: 4.7496 - acc: 0.0930\n",
      "\n",
      "done.\n",
      "Please invoke the Learner.lr_plot() method to visually inspect the loss plot to help identify the maximal learning rate associated with falling loss.\n",
      "CPU times: user 4min 5s, sys: 4min 10s, total: 8min 15s\n",
      "Wall time: 9min 33s\n"
     ]
    },
    {
     "data": {
      "image/png": "[encoded data removed]",
      "text/plain": [
       "<Figure size 432x288 with 1 Axes>"
      ]
     },
     "metadata": {
      "needs_background": "light"
     },
     "output_type": "display_data"
    }
   ],
   "source": [
    "%%time\n",
    "# find good learning rate\n",
    "learner.lr_find()  # briefly simulate training to find good learning rate\n",
    "learner.lr_plot()  # visually identify best learning rate"
   ]
  },
  {
   "cell_type": "code",
   "execution_count": 8,
   "metadata": {},
   "outputs": [
    {
     "name": "stdout",
     "output_type": "stream",
     "text": [
      "\n",
      "\n",
      "begin training using triangular learning rate policy with max lr of 2.9e-05...\n",
      "Train on 8961 samples, validate on 8961 samples\n",
      "Epoch 1/10\n",
      "8961/8961 [==============================] - 498s 56ms/sample - loss: 2.7566 - acc: 0.2376 - val_loss: 2.1874 - val_acc: 0.3692\n",
      "Epoch 2/10\n",
      "8961/8961 [==============================] - 494s 55ms/sample - loss: 2.1426 - acc: 0.3670 - val_loss: 1.7298 - val_acc: 0.4801\n",
      "Epoch 3/10\n",
      "8961/8961 [==============================] - 494s 55ms/sample - loss: 1.7837 - acc: 0.4666 - val_loss: 1.3118 - val_acc: 0.6151\n",
      "Epoch 4/10\n",
      "8961/8961 [==============================] - 495s 55ms/sample - loss: 1.4362 - acc: 0.5710 - val_loss: 0.9192 - val_acc: 0.7459\n",
      "Epoch 5/10\n",
      "8961/8961 [==============================] - 494s 55ms/sample - loss: 1.0911 - acc: 0.6766 - val_loss: 0.5800 - val_acc: 0.8597\n",
      "Epoch 6/10\n",
      "8961/8961 [==============================] - 494s 55ms/sample - loss: 0.7656 - acc: 0.7807 - val_loss: 0.3283 - val_acc: 0.9279\n",
      "Epoch 7/10\n",
      "8961/8961 [==============================] - 495s 55ms/sample - loss: 0.5118 - acc: 0.8620 - val_loss: 0.1925 - val_acc: 0.9606\n",
      "Epoch 8/10\n",
      "8961/8961 [==============================] - 494s 55ms/sample - loss: 0.3377 - acc: 0.9123 - val_loss: 0.1060 - val_acc: 0.9819\n",
      "Epoch 9/10\n",
      "8961/8961 [==============================] - 494s 55ms/sample - loss: 0.2393 - acc: 0.9381 - val_loss: 0.0586 - val_acc: 0.9916\n",
      "Epoch 10/10\n",
      "8961/8961 [==============================] - 494s 55ms/sample - loss: 0.1654 - acc: 0.9626 - val_loss: 0.0370 - val_acc: 0.9948\n",
      "CPU times: user 29min, sys: 30min 35s, total: 59min 35s\n",
      "Wall time: 1h 22min 26s\n"
     ]
    },
    {
     "data": {
      "text/plain": [
       "<tensorflow.python.keras.callbacks.History at 0x7f278a708160>"
      ]
     },
     "execution_count": 8,
     "metadata": {},
     "output_type": "execute_result"
    }
   ],
   "source": [
    "%%time\n",
    "# employs the 1cycle learning rate policy\n",
    "# 0.00002\n",
    "# learner.fit_onecycle(2e-5, 10)\n",
    "\n",
    "# # employs a triangular learning rate policy with automatic stopping\n",
    "learner.autofit(0.000029, 10)"
   ]
  },
  {
   "cell_type": "code",
   "execution_count": 9,
   "metadata": {},
   "outputs": [
    {
     "name": "stdout",
     "output_type": "stream",
     "text": [
      "CPU times: user 17.7 s, sys: 788 ms, total: 18.5 s\n",
      "Wall time: 18.5 s\n"
     ]
    }
   ],
   "source": [
    "%%time\n",
    "predictor = ktrain.get_predictor(learner.model, preproc)\n",
    "predictor.save('predictor')"
   ]
  },
  {
   "cell_type": "code",
   "execution_count": null,
   "metadata": {},
   "outputs": [],
   "source": []
  }
 ],
 "metadata": {
  "kernelspec": {
   "display_name": "Python 3",
   "language": "python",
   "name": "python3"
  },
  "language_info": {
   "codemirror_mode": {
    "name": "ipython",
    "version": 3
   },
   "file_extension": ".py",
   "mimetype": "text/x-python",
   "name": "python",
   "nbconvert_exporter": "python",
   "pygments_lexer": "ipython3",
   "version": "3.6.9"
  }
 },
 "nbformat": 4,
 "nbformat_minor": 4
}
